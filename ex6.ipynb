{
 "cells": [
  {
   "cell_type": "code",
   "execution_count": 1,
   "metadata": {},
   "outputs": [],
   "source": [
    "import matplotlib.pyplot as plt\n",
    "import numpy as np\n",
    "import re\n",
    "from nltk.stem import PorterStemmer\n",
    "from scipy.io import loadmat"
   ]
  },
  {
   "cell_type": "markdown",
   "metadata": {},
   "source": [
    "# Exercise 6.1: Support Vector Machines (dimension-2, power-various, category-2, regularised)\n",
    "---"
   ]
  },
  {
   "cell_type": "markdown",
   "metadata": {},
   "source": [
    "In addition to logistic regression and neural networks (which I am currently seeing as a natural extension to logistic regression anyway), a further classification algorithm is given by the method of Support Vector Machines (SVM). Currently (2020/04/10) I'm not sure what the pros and cons of the various systems are, and I've not gone back to review any of Andrew's SVM videos or notes, but I don't remember there being much detail in the course in terms of how this method actually works anyway. This exercise is also not very illustrative, as the main code is given to us and we simply have to implement it in different ways. It doesn't help further my understanding. All I can say is that the SVM approach appears to be able to fit boundary surfaces in order to separate data categories, but we don't see anything in the method that is easily identifiable as a cost function which is being minimised, nor do we see any clear description of exactly what the parameters that we find are relating to. The best we get is just an overview of what the SVM method can provide, at first for various 2D data, and later on for 1899D data. Let's begin by having a look at the first set of 2D data, which, like the first set of 2D data in the logistic regression work of exercise-2, are separable by a flat boundary surface:"
   ]
  },
  {
   "cell_type": "code",
   "execution_count": 4,
   "metadata": {},
   "outputs": [
    {
     "data": {
      "text/plain": [
       "dict_keys(['__header__', '__version__', '__globals__', 'X', 'y'])"
      ]
     },
     "execution_count": 4,
     "metadata": {},
     "output_type": "execute_result"
    }
   ],
   "source": [
    "d1 = loadmat('ex6/ex6data1.mat')\n",
    "d1.keys()"
   ]
  },
  {
   "cell_type": "code",
   "execution_count": 21,
   "metadata": {},
   "outputs": [
    {
     "data": {
      "text/plain": [
       "(51, 2)"
      ]
     },
     "execution_count": 21,
     "metadata": {},
     "output_type": "execute_result"
    }
   ],
   "source": [
    "d1_X = d1['X']\n",
    "d1_X.shape"
   ]
  },
  {
   "cell_type": "code",
   "execution_count": 22,
   "metadata": {},
   "outputs": [
    {
     "data": {
      "text/plain": [
       "(51, 1)"
      ]
     },
     "execution_count": 22,
     "metadata": {},
     "output_type": "execute_result"
    }
   ],
   "source": [
    "d1_y = d1['y']\n",
    "d1_y.shape"
   ]
  },
  {
   "cell_type": "code",
   "execution_count": 226,
   "metadata": {},
   "outputs": [],
   "source": [
    "del(d1)"
   ]
  },
  {
   "cell_type": "code",
   "execution_count": 23,
   "metadata": {},
   "outputs": [],
   "source": [
    "d1_y_idx0 = np.where(d1_y == 0)[0]\n",
    "d1_y_idx1 = np.where(d1_y == 1)[0]"
   ]
  },
  {
   "cell_type": "code",
   "execution_count": 24,
   "metadata": {},
   "outputs": [
    {
     "data": {
      "image/png": "[encoded data removed]",
      "text/plain": [
       "<Figure size 1440x720 with 1 Axes>"
      ]
     },
     "metadata": {
      "needs_background": "light"
     },
     "output_type": "display_data"
    }
   ],
   "source": [
    "fig = plt.figure(figsize=(20,10))\n",
    "ax = fig.gca()\n",
    "ax.scatter(d1_X[d1_y_idx0,0], d1_X[d1_y_idx0,1], color='C0', alpha=0.5)\n",
    "ax.scatter(d1_X[d1_y_idx1,0], d1_X[d1_y_idx1,1], color='C1', alpha=0.5)\n",
    "ax.set(xlabel='x1', ylabel='x2')\n",
    "ax.legend(['y=0', 'y=1'])\n",
    "plt.show()"
   ]
  },
  {
   "cell_type": "markdown",
   "metadata": {},
   "source": [
    "---"
   ]
  },
  {
   "cell_type": "markdown",
   "metadata": {},
   "source": [
    "Let's make a function to include an offset term via the dummy feature $x_0 = 1$:"
   ]
  },
  {
   "cell_type": "code",
   "execution_count": 27,
   "metadata": {},
   "outputs": [],
   "source": [
    "def add_ones(X):\n",
    "    return(np.append(np.ones([X.shape[0],1]), X, axis=1))"
   ]
  },
  {
   "cell_type": "markdown",
   "metadata": {},
   "source": [
    "---"
   ]
  },
  {
   "cell_type": "markdown",
   "metadata": {},
   "source": [
    "Now define the SVM training function. Note that the following code is a hacked version of Andrew's Octave code, where I've transposed certain things and switched the indices accordingly. I don't understand what the code is actually doing though, I just made it work and ensured that it gives similar output to that seen in the exercise PDF.\n",
    "\n",
    "The C parameter is like an inverse regularisation parameter from other methods (i.e. like $1/\\lambda$), in that:\n",
    "- smaller C (bigger $\\lambda$) means more regularisation (less prone to overfitting)\n",
    "- bigger C (smaller $\\lambda$) means less regularisation (more prone to overfitting)"
   ]
  },
  {
   "cell_type": "code",
   "execution_count": 67,
   "metadata": {},
   "outputs": [],
   "source": [
    "# Note that this just returns the value of the Gaussian curve e^((-x^2) / (2 sigma^2)), with x here\n",
    "# being the distance between two points in parameter space, taking into account all dimensions\n",
    "\n",
    "def kern_gauss(\n",
    "    coords1,\n",
    "    coords2,\n",
    "    sigma,\n",
    "):\n",
    "\n",
    "    val = np.exp(\n",
    "          (-1 / (2 * np.power(sigma, 2))) \\\n",
    "        * np.sum(np.power(np.array(coords1) - np.array(coords2), 2))\n",
    "    )\n",
    "\n",
    "    return(val)"
   ]
  },
  {
   "cell_type": "code",
   "execution_count": 68,
   "metadata": {},
   "outputs": [
    {
     "data": {
      "text/plain": [
       "0.32465246735834974"
      ]
     },
     "execution_count": 68,
     "metadata": {},
     "output_type": "execute_result"
    }
   ],
   "source": [
    "kern_gauss([1,2,1], [0,4,-1], 2)\n",
    "# 0.32465246735834974"
   ]
  },
  {
   "cell_type": "code",
   "execution_count": 111,
   "metadata": {},
   "outputs": [],
   "source": [
    "def get_svm(\n",
    "    X,\n",
    "    y,\n",
    "    C,\n",
    "    kern_func='kern_lin',\n",
    "    tol=1e-3,\n",
    "    passes_num_max=5,\n",
    "    sigma=0.1,\n",
    "):\n",
    "\n",
    "    exs_num, feats_num = np.shape(X)\n",
    "\n",
    "    y = np.transpose(y).astype(int)[0]\n",
    "    y[np.where(y == 0)] = -1 # Rather than having category labels 0 and 1, we map to -1 and +1. I don't know what the benefit is.\n",
    "\n",
    "    alphas = np.zeros(exs_num)\n",
    "    E = np.zeros(exs_num)\n",
    "    b = 0\n",
    "    L = 0\n",
    "    H = 0\n",
    "    dots = 12\n",
    "    passes_num = 0\n",
    "    eta = 0\n",
    "\n",
    "    if   (kern_func == 'kern_lin'):\n",
    "        K = np.dot(X, np.transpose(X))\n",
    "    elif (kern_func == 'kern_gauss'):\n",
    "        K = np.zeros([exs_num, exs_num])\n",
    "        for i in range(exs_num):\n",
    "            for j in range(exs_num):\n",
    "                K[i][j] = kern_gauss(\n",
    "                    X[i],\n",
    "                    X[j],\n",
    "                    sigma,\n",
    "                )\n",
    "\n",
    "    while (passes_num < passes_num_max):\n",
    "\n",
    "        alphas_changed_num = 0\n",
    "\n",
    "        for i in range(exs_num):\n",
    "\n",
    "            E[i] = b - y[i] + np.sum(alphas * y * K[i])\n",
    "\n",
    "            if ( (y[i] * E[i] < -tol) and (alphas[i] < C) ) \\\n",
    "            or ( (y[i] * E[i] >  tol) and (alphas[i] > 0) ):\n",
    "\n",
    "                j = i\n",
    "                while (j == i):\n",
    "                    j = np.random.randint(exs_num)\n",
    "\n",
    "                E[j] = b - y[j] + np.sum(alphas * y * K[j])\n",
    "\n",
    "                if (y[i] == y[j]):\n",
    "                    L = np.max([0, alphas[j] + alphas[i] - C])\n",
    "                    H = np.min([C, alphas[j] + alphas[i]])\n",
    "                else:\n",
    "                    L = np.max([0, alphas[j] - alphas[i]])\n",
    "                    H = np.min([C, alphas[j] - alphas[i] + C])\n",
    "\n",
    "                if (L == H):\n",
    "                    continue\n",
    "\n",
    "                eta = 2 * K[i][j] - K[i][i] - K[j][j]\n",
    "\n",
    "                if (eta >= 0):\n",
    "                    continue\n",
    "\n",
    "                alphas_i_old = alphas[i]\n",
    "                alphas_j_old = alphas[j]\n",
    "\n",
    "                alphas[j] -= (y[j] * (E[i] - E[j])) / eta\n",
    "                alphas[j] = np.min([H, alphas[j]])\n",
    "                alphas[j] = np.max([L, alphas[j]])\n",
    "\n",
    "                if (abs(alphas[j] - alphas_j_old) < tol):\n",
    "                    alphas[j] = alphas_j_old\n",
    "                    continue\n",
    "\n",
    "                alphas[i] += y[i] * y[j] * (alphas_j_old - alphas[j])\n",
    "\n",
    "                alphas_changed_num += 1\n",
    "\n",
    "                b1 = \\\n",
    "                      b \\\n",
    "                    - E[i] \\\n",
    "                    - y[i] * (alphas[i] - alphas_i_old) * K[i][j] \\\n",
    "                    - y[j] * (alphas[j] - alphas_j_old) * K[i][j]\n",
    "                b2 = \\\n",
    "                      b \\\n",
    "                    - E[j] \\\n",
    "                    - y[i] * (alphas[i] - alphas_i_old) * K[i][j] \\\n",
    "                    - y[j] * (alphas[j] - alphas_j_old) * K[i][i]\n",
    "\n",
    "                if   ( (0 < alphas[i]) and (alphas[i] < C) ):\n",
    "                    b = b1\n",
    "                elif ( (0 < alphas[j]) and (alphas[j] < C) ):\n",
    "                    b = b2\n",
    "                else:\n",
    "                    b = (b1 + b2) / 2\n",
    "\n",
    "        if (alphas_changed_num == 0):\n",
    "            passes_num += 1\n",
    "        else:\n",
    "            passes_num = 0\n",
    "\n",
    "        dots += 1\n",
    "\n",
    "        if (dots > 78):\n",
    "            dots = 0\n",
    "\n",
    "    exs_idxs_alphas_gt0 = np.where(alphas > 0)[0]\n",
    "\n",
    "    return(\n",
    "        X[exs_idxs_alphas_gt0],\n",
    "        y[exs_idxs_alphas_gt0],\n",
    "        alphas[exs_idxs_alphas_gt0],\n",
    "        np.dot(np.transpose(X), np.transpose([alphas * y])),\n",
    "        b,\n",
    "    )"
   ]
  },
  {
   "cell_type": "markdown",
   "metadata": {},
   "source": [
    "The following function was made by inspecting Andrew's ``svmPredict.m`` Octave function and using The Force a bit, can't say I understand exactly what's going on here, but it looked like he was taking the Gaussian kernal values of a particular point in the meshgrid with all the points in the SVM model output, each multiplied by their model y-values (which are either -1 or +1) and their model alpha values, then summed and compared to zero in order to provide the final category label for that meshgrid point. This could probably be implemented a bit better with some further consideration, but I'm actually surprised it worked at all to give the expected boundary for this part of the exercises, given that I was simply hacking my way through here. Win."
   ]
  },
  {
   "cell_type": "code",
   "execution_count": 39,
   "metadata": {},
   "outputs": [],
   "source": [
    "# def get_boundary_surface(\n",
    "#     x1s,\n",
    "#     x2s,\n",
    "#     sigma,\n",
    "#     svm,\n",
    "# ):\n",
    "\n",
    "#     boundary_surface = np.zeros([len(x1s), len(x2s)])\n",
    "\n",
    "#     for x1s_idx,x1 in enumerate(x1s):\n",
    "#         for x2s_idx,x2 in enumerate(x2s):\n",
    "#             p = np.sum([\n",
    "#                   kern_gauss(\n",
    "#                       [x1,x2],\n",
    "#                       svm[0][exs_idx],\n",
    "#                       sigma,\n",
    "#                   ) \\\n",
    "#                 * svm[1][exs_idx] \\\n",
    "#                 * svm[2][exs_idx]\n",
    "#                 for exs_idx in range(svm[1].shape[0])\n",
    "#             ])\n",
    "#             boundary_surface[x1s_idx][x2s_idx] = 1 if (p >= 0) else 0\n",
    "\n",
    "#     return(boundary_surface)"
   ]
  },
  {
   "cell_type": "code",
   "execution_count": 46,
   "metadata": {},
   "outputs": [],
   "source": [
    "def get_boundary_surface(\n",
    "    X,\n",
    "    sigma,\n",
    "    svm,\n",
    "):\n",
    "\n",
    "    boundary_surface = np.zeros(X.shape[0])\n",
    "\n",
    "    for X_exs_idx in range(X.shape[0]):\n",
    "        p = np.sum([\n",
    "              kern_gauss(\n",
    "                  X[X_exs_idx],\n",
    "                  svm[0][svm_exs_idx],\n",
    "                  sigma,\n",
    "              ) \\\n",
    "            * svm[1][svm_exs_idx] \\\n",
    "            * svm[2][svm_exs_idx]\n",
    "            for svm_exs_idx in range(svm[1].shape[0])\n",
    "        ])\n",
    "#         boundary_surface[X_exs_idx] = 1 if (p >= 0) else 0 # This gives the label of the point in data-space, like taking the rounded sigmoid value in linear regression\n",
    "        boundary_surface[X_exs_idx] = p\n",
    "\n",
    "    return(boundary_surface)"
   ]
  },
  {
   "cell_type": "markdown",
   "metadata": {},
   "source": [
    "---"
   ]
  },
  {
   "cell_type": "markdown",
   "metadata": {},
   "source": [
    "Now run the SVM function on the given data using the \"_linear kernel_\" (again, I'm really not sure of the details here). Note that the parts of the SVM output that we use to obtain the boundary surface values, from which the $z=0$ contour is then given, are formed into a vector that is then dotted with the input data. This is exactly what we do in forming hypothesis values in linear and logistic regression, as it is understood that what we are dotting the data with is the optimum parameter vector $\\overrightarrow{\\theta}$. This gives us some insight into what these parts of the SVM output actually mean.\n",
    "\n",
    "Try the following with C=1 (high regularisation, low overfitting) and C=100 (low regularisation, high overfitting), and notice what happens with the outlier in each case:"
   ]
  },
  {
   "cell_type": "code",
   "execution_count": 112,
   "metadata": {},
   "outputs": [],
   "source": [
    "d1_svm = get_svm(\n",
    "    d1_X,\n",
    "    d1_y,\n",
    "    1,\n",
    "    kern_func='kern_lin',\n",
    "    passes_num_max=20,\n",
    ")"
   ]
  },
  {
   "cell_type": "code",
   "execution_count": 221,
   "metadata": {},
   "outputs": [],
   "source": [
    "d1_X1_range = max(d1_X[:,0]) - min(d1_X[:,0])\n",
    "d1_Xfit1_lower = min(d1_X[:,0]) - (d1_X1_range * 0.0)\n",
    "d1_Xfit1_upper = max(d1_X[:,0]) + (d1_X1_range * 0.0)\n",
    "\n",
    "d1_X2_range = max(d1_X[:,1]) - min(d1_X[:,1])\n",
    "d1_Xfit2_lower = min(d1_X[:,1]) - (d1_X2_range * 0.0)\n",
    "d1_Xfit2_upper = max(d1_X[:,1]) + (d1_X2_range * 0.0)\n",
    "\n",
    "d1_Xfit1 = np.linspace(d1_Xfit1_lower, d1_Xfit1_upper, 100)\n",
    "d1_Xfit2 = np.linspace(d1_Xfit2_lower, d1_Xfit2_upper, 100)\n",
    "\n",
    "# Note that the meshgrids, and everything that follows from them, are in [x2,x1] order, not [x1,x2]. Dunno why that is, counterintuitive.\n",
    "\n",
    "d1_Xfit1_meshgrid, d1_Xfit2_meshgrid = np.meshgrid(d1_Xfit1, d1_Xfit2)\n",
    "\n",
    "d1_Xfit = np.transpose([d1_Xfit1_meshgrid.flatten(), d1_Xfit2_meshgrid.flatten()])\n",
    "d1_Xfit_ones = add_ones(d1_Xfit)\n",
    "\n",
    "d1_hfit = np.dot(d1_Xfit_ones, np.transpose(np.append(d1_svm[4], d1_svm[3])))\n",
    "d1_hfit_meshgrid = np.reshape(d1_hfit, [d1_Xfit2.shape[0], d1_Xfit1.shape[0]])\n",
    "\n",
    "# d1_Xfit2_at_z0 = - (d1_svm[4] + d1_Xfit1 * d1_svm[3][0]) / d1_svm[3][1]"
   ]
  },
  {
   "cell_type": "code",
   "execution_count": 222,
   "metadata": {},
   "outputs": [
    {
     "data": {
      "image/png": "[encoded data removed]",
      "text/plain": [
       "<Figure size 1440x720 with 1 Axes>"
      ]
     },
     "metadata": {
      "needs_background": "light"
     },
     "output_type": "display_data"
    }
   ],
   "source": [
    "fig = plt.figure(figsize=(20,10))\n",
    "ax = fig.gca()\n",
    "ax.scatter(d1_X[d1_y_idx0,0], d1_X[d1_y_idx0,1], color='C0', alpha=0.5)\n",
    "ax.scatter(d1_X[d1_y_idx1,0], d1_X[d1_y_idx1,1], color='C1', alpha=0.5)\n",
    "# ax.plot(d1_Xfit1, d1_Xfit2_at_z0, '-', color='m')\n",
    "ax.contour(d1_Xfit1_meshgrid, d1_Xfit2_meshgrid, d1_hfit_meshgrid, [0], colors=['m'])\n",
    "ax.set(xlabel='x1', ylabel='x2')\n",
    "ax.legend(['y=0', 'y=1']) # Dunno why, but the legend always puts the 'plot' style before the 'scatter' style, regardless of the above ordering\n",
    "plt.show()"
   ]
  },
  {
   "cell_type": "markdown",
   "metadata": {},
   "source": [
    "---"
   ]
  },
  {
   "cell_type": "markdown",
   "metadata": {},
   "source": [
    "Now for some 2D data that can't be separated by a flat boundary surface. In this case we must use the \"_Gaussian kernel_\". The data are as follows:"
   ]
  },
  {
   "cell_type": "code",
   "execution_count": 30,
   "metadata": {},
   "outputs": [
    {
     "data": {
      "text/plain": [
       "dict_keys(['__header__', '__version__', '__globals__', 'X', 'y'])"
      ]
     },
     "execution_count": 30,
     "metadata": {},
     "output_type": "execute_result"
    }
   ],
   "source": [
    "d2 = loadmat('ex6/ex6data2.mat')\n",
    "d2.keys()"
   ]
  },
  {
   "cell_type": "code",
   "execution_count": 31,
   "metadata": {},
   "outputs": [
    {
     "data": {
      "text/plain": [
       "(863, 2)"
      ]
     },
     "execution_count": 31,
     "metadata": {},
     "output_type": "execute_result"
    }
   ],
   "source": [
    "d2_X = d2['X']\n",
    "d2_X.shape"
   ]
  },
  {
   "cell_type": "code",
   "execution_count": 32,
   "metadata": {},
   "outputs": [
    {
     "data": {
      "text/plain": [
       "(863, 1)"
      ]
     },
     "execution_count": 32,
     "metadata": {},
     "output_type": "execute_result"
    }
   ],
   "source": [
    "d2_y = d2['y']\n",
    "d2_y.shape"
   ]
  },
  {
   "cell_type": "code",
   "execution_count": 227,
   "metadata": {},
   "outputs": [],
   "source": [
    "del(d2)"
   ]
  },
  {
   "cell_type": "code",
   "execution_count": 33,
   "metadata": {},
   "outputs": [],
   "source": [
    "d2_y_idx0 = np.where(d2_y == 0)[0]\n",
    "d2_y_idx1 = np.where(d2_y == 1)[0]"
   ]
  },
  {
   "cell_type": "code",
   "execution_count": 35,
   "metadata": {},
   "outputs": [
    {
     "data": {
      "image/png": "[encoded data removed]",
      "text/plain": [
       "<Figure size 1440x720 with 1 Axes>"
      ]
     },
     "metadata": {
      "needs_background": "light"
     },
     "output_type": "display_data"
    }
   ],
   "source": [
    "fig = plt.figure(figsize=(20,10))\n",
    "ax = fig.gca()\n",
    "ax.scatter(d2_X[d2_y_idx0,0], d2_X[d2_y_idx0,1], color='C0', alpha=0.5)\n",
    "ax.scatter(d2_X[d2_y_idx1,0], d2_X[d2_y_idx1,1], color='C1', alpha=0.5)\n",
    "ax.set(xlabel='x1', ylabel='x2')\n",
    "ax.legend(['y=0', 'y=1'])\n",
    "plt.show()"
   ]
  },
  {
   "cell_type": "markdown",
   "metadata": {},
   "source": [
    "---"
   ]
  },
  {
   "cell_type": "markdown",
   "metadata": {},
   "source": [
    "Just according to Andrew's instruction, we use C=1 and $\\sigma$=0.1 in calling the SVM function. Note that, unlike the flat boundary surface case above, we use more of the model output in obtaining the boundary surface values here:"
   ]
  },
  {
   "cell_type": "code",
   "execution_count": 115,
   "metadata": {},
   "outputs": [],
   "source": [
    "d2_svm = get_svm(\n",
    "    d2_X,\n",
    "    d2_y,\n",
    "    1,\n",
    "    kern_func='kern_gauss',\n",
    "    sigma=0.1,\n",
    ")"
   ]
  },
  {
   "cell_type": "code",
   "execution_count": 116,
   "metadata": {},
   "outputs": [],
   "source": [
    "d2_X1_range = max(d2_X[:,0]) - min(d2_X[:,0])\n",
    "d2_Xfit1_lower = min(d2_X[:,0]) - (d2_X1_range * 0.0)\n",
    "d2_Xfit1_upper = max(d2_X[:,0]) + (d2_X1_range * 0.0)\n",
    "\n",
    "d2_X2_range = max(d2_X[:,1]) - min(d2_X[:,1])\n",
    "d2_Xfit2_lower = min(d2_X[:,1]) - (d2_X2_range * 0.0)\n",
    "d2_Xfit2_upper = max(d2_X[:,1]) + (d2_X2_range * 0.0)\n",
    "\n",
    "d2_Xfit1 = np.linspace(d2_Xfit1_lower, d2_Xfit1_upper, 100)\n",
    "d2_Xfit2 = np.linspace(d2_Xfit2_lower, d2_Xfit2_upper, 100)\n",
    "\n",
    "# Note that the meshgrids, and everything that follows from them, are in [x2,x1] order, not [x1,x2]. Dunno why that is, counterintuitive.\n",
    "\n",
    "d2_Xfit1_meshgrid, d2_Xfit2_meshgrid = np.meshgrid(d2_Xfit1, d2_Xfit2)\n",
    "\n",
    "d2_Xfit = np.transpose([d2_Xfit1_meshgrid.flatten(), d2_Xfit2_meshgrid.flatten()])\n",
    "\n",
    "d2_hfit = get_boundary_surface(d2_Xfit, 0.1, d2_svm)\n",
    "d2_hfit_meshgrid = np.reshape(d2_hfit, [d2_Xfit2.shape[0], d2_Xfit1.shape[0]])"
   ]
  },
  {
   "cell_type": "code",
   "execution_count": 117,
   "metadata": {},
   "outputs": [
    {
     "data": {
      "image/png": "[encoded data removed]",
      "text/plain": [
       "<Figure size 1440x720 with 1 Axes>"
      ]
     },
     "metadata": {
      "needs_background": "light"
     },
     "output_type": "display_data"
    }
   ],
   "source": [
    "fig = plt.figure(figsize=(20,10))\n",
    "ax = fig.gca()\n",
    "ax.scatter(d2_X[d2_y_idx0,0], d2_X[d2_y_idx0,1], color='C0', alpha=0.5)\n",
    "ax.scatter(d2_X[d2_y_idx1,0], d2_X[d2_y_idx1,1], color='C1', alpha=0.5)\n",
    "ax.contour(d2_Xfit1_meshgrid, d2_Xfit2_meshgrid, d2_hfit_meshgrid, [0], colors=['m'])\n",
    "ax.set(xlabel='x1', ylabel='x2')\n",
    "ax.legend(['y=0', 'y=1']) # Dunno why, but the legend always puts the 'plot' style before the 'scatter' style, regardless of the above ordering\n",
    "plt.show()"
   ]
  },
  {
   "cell_type": "markdown",
   "metadata": {},
   "source": [
    "---"
   ]
  },
  {
   "cell_type": "markdown",
   "metadata": {},
   "source": [
    "For our third and final 2D example, unlike in the previous examples where we simply stated C and $\\sigma$ values (I guess from Andrew's testing), now we do an actual scan of these values to find those that give the lowest cost with respect to a cross-validation set, and use those to perform the actual run. Like the last example, this is also given the Gaussian kernel treatment, so providing a curved boundary surface. First just observe the data:"
   ]
  },
  {
   "cell_type": "code",
   "execution_count": 47,
   "metadata": {},
   "outputs": [
    {
     "data": {
      "text/plain": [
       "dict_keys(['__header__', '__version__', '__globals__', 'X', 'y', 'yval', 'Xval'])"
      ]
     },
     "execution_count": 47,
     "metadata": {},
     "output_type": "execute_result"
    }
   ],
   "source": [
    "d3 = loadmat('ex6/ex6data3.mat')\n",
    "d3.keys()"
   ]
  },
  {
   "cell_type": "code",
   "execution_count": 49,
   "metadata": {},
   "outputs": [
    {
     "data": {
      "text/plain": [
       "(211, 2)"
      ]
     },
     "execution_count": 49,
     "metadata": {},
     "output_type": "execute_result"
    }
   ],
   "source": [
    "d3_X = d3['X']\n",
    "d3_X.shape"
   ]
  },
  {
   "cell_type": "code",
   "execution_count": 50,
   "metadata": {},
   "outputs": [
    {
     "data": {
      "text/plain": [
       "(211, 1)"
      ]
     },
     "execution_count": 50,
     "metadata": {},
     "output_type": "execute_result"
    }
   ],
   "source": [
    "d3_y = d3['y']\n",
    "d3_y.shape"
   ]
  },
  {
   "cell_type": "code",
   "execution_count": 53,
   "metadata": {},
   "outputs": [
    {
     "data": {
      "text/plain": [
       "(200, 2)"
      ]
     },
     "execution_count": 53,
     "metadata": {},
     "output_type": "execute_result"
    }
   ],
   "source": [
    "d3_Xval = d3['Xval']\n",
    "d3_Xval.shape"
   ]
  },
  {
   "cell_type": "code",
   "execution_count": 54,
   "metadata": {},
   "outputs": [
    {
     "data": {
      "text/plain": [
       "(200, 1)"
      ]
     },
     "execution_count": 54,
     "metadata": {},
     "output_type": "execute_result"
    }
   ],
   "source": [
    "d3_yval = d3['yval']\n",
    "d3_yval.shape"
   ]
  },
  {
   "cell_type": "code",
   "execution_count": 228,
   "metadata": {},
   "outputs": [],
   "source": [
    "del(d3)"
   ]
  },
  {
   "cell_type": "code",
   "execution_count": 51,
   "metadata": {},
   "outputs": [],
   "source": [
    "d3_y_idx0 = np.where(d3_y == 0)[0]\n",
    "d3_y_idx1 = np.where(d3_y == 1)[0]"
   ]
  },
  {
   "cell_type": "code",
   "execution_count": 52,
   "metadata": {},
   "outputs": [
    {
     "data": {
      "image/png": "[encoded data removed]",
      "text/plain": [
       "<Figure size 1440x720 with 1 Axes>"
      ]
     },
     "metadata": {
      "needs_background": "light"
     },
     "output_type": "display_data"
    }
   ],
   "source": [
    "fig = plt.figure(figsize=(20,10))\n",
    "ax = fig.gca()\n",
    "ax.scatter(d3_X[d3_y_idx0,0], d3_X[d3_y_idx0,1], color='C0', alpha=0.5)\n",
    "ax.scatter(d3_X[d3_y_idx1,0], d3_X[d3_y_idx1,1], color='C1', alpha=0.5)\n",
    "ax.set(xlabel='x1', ylabel='x2')\n",
    "ax.legend(['y=0', 'y=1'])\n",
    "plt.show()"
   ]
  },
  {
   "cell_type": "markdown",
   "metadata": {},
   "source": [
    "---"
   ]
  },
  {
   "cell_type": "markdown",
   "metadata": {},
   "source": [
    "Now run the SVM function for various C and $\\sigma$ values, both in the same range, and define a cost just given by a count of the number of incorrect classifications for each pair of settings:"
   ]
  },
  {
   "cell_type": "code",
   "execution_count": 57,
   "metadata": {},
   "outputs": [],
   "source": [
    "trials = [0.01, 0.03, 0.1, 0.3, 1, 3, 10, 30]\n",
    "costs = np.zeros([len(trials),len(trials)])\n",
    "\n",
    "for Cs_idx,C in enumerate(trials):\n",
    "\n",
    "    for sigmas_idx,sigma in enumerate(trials):\n",
    "\n",
    "        d3_svm = get_svm(\n",
    "            d3_X,\n",
    "            d3_y,\n",
    "            C,\n",
    "            kern_func='kern_gauss',\n",
    "            sigma=sigma,\n",
    "        )\n",
    "\n",
    "        for Xval_exs_idx in range(d3_Xval.shape[0]):\n",
    "\n",
    "            p = np.sum([\n",
    "                  kern_gauss(\n",
    "                      d3_Xval[Xval_exs_idx],\n",
    "                      d3_svm[0][svm_exs_idx],\n",
    "                      sigma,\n",
    "                  ) \\\n",
    "                * d3_svm[1][svm_exs_idx] \\\n",
    "                * d3_svm[2][svm_exs_idx]\n",
    "                for svm_exs_idx in range(d3_svm[1].shape[0])\n",
    "            ])\n",
    "            prediction = 1 if (p >= 0) else 0\n",
    "\n",
    "            if (prediction != d3_yval[Xval_exs_idx,0]):\n",
    "                costs[Cs_idx][sigmas_idx] += 1"
   ]
  },
  {
   "cell_type": "code",
   "execution_count": 58,
   "metadata": {},
   "outputs": [
    {
     "data": {
      "text/plain": [
       "array([[16., 12.,  9., 29., 36., 36., 37., 36.],\n",
       "       [16., 12.,  9., 28., 36., 36., 37., 37.],\n",
       "       [16., 12.,  9., 16., 34., 37., 36., 36.],\n",
       "       [16., 12.,  7., 13., 20., 36., 37., 36.],\n",
       "       [16., 13.,  6., 14., 15., 32., 37., 36.],\n",
       "       [16., 16.,  7., 15., 20., 19., 36., 37.],\n",
       "       [16., 16., 14., 14., 19., 18., 33., 37.],\n",
       "       [16., 16., 12., 14., 18., 13., 18., 36.]])"
      ]
     },
     "execution_count": 58,
     "metadata": {},
     "output_type": "execute_result"
    }
   ],
   "source": [
    "costs"
   ]
  },
  {
   "cell_type": "code",
   "execution_count": 59,
   "metadata": {},
   "outputs": [
    {
     "data": {
      "text/plain": [
       "6.0"
      ]
     },
     "execution_count": 59,
     "metadata": {},
     "output_type": "execute_result"
    }
   ],
   "source": [
    "np.min(costs)"
   ]
  },
  {
   "cell_type": "code",
   "execution_count": 61,
   "metadata": {},
   "outputs": [
    {
     "data": {
      "text/plain": [
       "(array([4]), array([2]))"
      ]
     },
     "execution_count": 61,
     "metadata": {},
     "output_type": "execute_result"
    }
   ],
   "source": [
    "costs_idx_min = np.where(costs == np.min(costs))\n",
    "costs_idx_min"
   ]
  },
  {
   "cell_type": "markdown",
   "metadata": {},
   "source": [
    "---"
   ]
  },
  {
   "cell_type": "markdown",
   "metadata": {},
   "source": [
    "Run the SVM function using the optimum settings found by the above experimentation, and show the output as usual:"
   ]
  },
  {
   "cell_type": "code",
   "execution_count": 78,
   "metadata": {},
   "outputs": [],
   "source": [
    "d3_svm = get_svm(\n",
    "    d3_X,\n",
    "    d3_y,\n",
    "    trials[costs_idx_min[0][0]],\n",
    "    kern_func='kern_gauss',\n",
    "    sigma=trials[costs_idx_min[1][0]],\n",
    ")"
   ]
  },
  {
   "cell_type": "code",
   "execution_count": 79,
   "metadata": {},
   "outputs": [],
   "source": [
    "d3_X1_range = max(d3_X[:,0]) - min(d3_X[:,0])\n",
    "d3_Xfit1_lower = min(d3_X[:,0]) - (d3_X1_range * 0.0)\n",
    "d3_Xfit1_upper = max(d3_X[:,0]) + (d3_X1_range * 0.0)\n",
    "\n",
    "d3_X2_range = max(d3_X[:,1]) - min(d3_X[:,1])\n",
    "d3_Xfit2_lower = min(d3_X[:,1]) - (d3_X2_range * 0.0)\n",
    "d3_Xfit2_upper = max(d3_X[:,1]) + (d3_X2_range * 0.0)\n",
    "\n",
    "d3_Xfit1 = np.linspace(d3_Xfit1_lower, d3_Xfit1_upper, 100)\n",
    "d3_Xfit2 = np.linspace(d3_Xfit2_lower, d3_Xfit2_upper, 100)\n",
    "\n",
    "# Note that the meshgrids, and everything that follows from them, are in [x2,x1] order, not [x1,x2]. Dunno why that is, counterintuitive.\n",
    "\n",
    "d3_Xfit1_meshgrid, d3_Xfit2_meshgrid = np.meshgrid(d3_Xfit1, d3_Xfit2)\n",
    "\n",
    "d3_Xfit = np.transpose([d3_Xfit1_meshgrid.flatten(), d3_Xfit2_meshgrid.flatten()])\n",
    "\n",
    "d3_hfit = get_boundary_surface(d3_Xfit, 0.1, d3_svm)\n",
    "d3_hfit_meshgrid = np.reshape(d3_hfit, [d3_Xfit2.shape[0], d3_Xfit1.shape[0]])"
   ]
  },
  {
   "cell_type": "code",
   "execution_count": 80,
   "metadata": {},
   "outputs": [
    {
     "data": {
      "image/png": "[encoded data removed]",
      "text/plain": [
       "<Figure size 1440x720 with 1 Axes>"
      ]
     },
     "metadata": {
      "needs_background": "light"
     },
     "output_type": "display_data"
    }
   ],
   "source": [
    "fig = plt.figure(figsize=(20,10))\n",
    "ax = fig.gca()\n",
    "ax.scatter(d3_X[d3_y_idx0,0], d3_X[d3_y_idx0,1], color='C0', alpha=0.5)\n",
    "ax.scatter(d3_X[d3_y_idx1,0], d3_X[d3_y_idx1,1], color='C1', alpha=0.5)\n",
    "ax.contour(d3_Xfit1_meshgrid, d3_Xfit2_meshgrid, d3_hfit_meshgrid, [0], colors=['m'])\n",
    "ax.set(xlabel='x1', ylabel='x2')\n",
    "ax.legend(['y=0', 'y=1']) # Dunno why, but the legend always puts the 'plot' style before the 'scatter' style, regardless of the above ordering\n",
    "plt.show()"
   ]
  },
  {
   "cell_type": "markdown",
   "metadata": {},
   "source": [
    "# Exercise 6.2: Support Vector Machines (dimension-1899, power-1, category-2, regularised)\n",
    "---"
   ]
  },
  {
   "cell_type": "markdown",
   "metadata": {},
   "source": [
    "We now look at applying the SVM method to some higher dimensional data. All data sets used up to now, throughout all exercises, have had some continuous range of possible values in all dimensions. Sometimes these have been limited ranges, such as the greyscale values for each pixel in the MNIST handwritten digit images of exercises 3 and 4, but continuous within those ranges nonetheless. Here, though, we use data which are binary in each dimension, which just encodes whether or not a given dimension is active for a given example data point. The data are a set of emails, each then manipulated from the raw text with some adjustments, such as converting all to lowercase and stripping certain characters, and finally converted to a simple vector of 0s and 1s that shows whether or not a word in a 1899-long vocabulary was present at least once within an email. That provides the 1899 dimensionality of the data that are actually then passed to the classifier. The label for each email is also binary, being either \"spam\" or \"non-spam\", so this is again a category-2 problem. We use the linear kernel, so meaning that this is a power-1 fit (as far as I am interpreting what the SVM is doing), or, in other words, a \"flat\" boundary surface, albeit one in 1899 dimensions.\n",
    "\n",
    "The email manipulations are as follows, which are then wrapped up in a couple of functions to create the vectors that are input to the SVM. However, these functions are not actually used live herein, as Andrew has already given the mapped data for input to the SVM. The following is therefore just for illustration of what happened to obtain that form of data:"
   ]
  },
  {
   "cell_type": "code",
   "execution_count": 149,
   "metadata": {},
   "outputs": [
    {
     "name": "stdout",
     "output_type": "stream",
     "text": [
      "['1\\taa\\n', '2\\tab\\n', '3\\tabil\\n', '4\\tabl\\n', '5\\tabout\\n', '6\\tabov\\n', '7\\tabsolut\\n', '8\\tabus\\n', '9\\tac\\n', '10\\taccept\\n']\n"
     ]
    }
   ],
   "source": [
    "vocab = open('ex6/vocab.txt', 'r').readlines()\n",
    "print(vocab[0:10])"
   ]
  },
  {
   "cell_type": "code",
   "execution_count": 150,
   "metadata": {},
   "outputs": [
    {
     "name": "stdout",
     "output_type": "stream",
     "text": [
      "['aa', 'ab', 'abil', 'abl', 'about', 'abov', 'absolut', 'abus', 'ac', 'accept']\n"
     ]
    }
   ],
   "source": [
    "vocab = [\n",
    "    re.search(r'\\d+\\t(.*)\\n', word)[1]\n",
    "    for word in vocab\n",
    "]\n",
    "print(vocab[0:10])"
   ]
  },
  {
   "cell_type": "code",
   "execution_count": 180,
   "metadata": {},
   "outputs": [
    {
     "name": "stdout",
     "output_type": "stream",
     "text": [
      "> Anyone knows how much it costs to host a web portal ?\n",
      ">\n",
      "Well, it depends on how many visitors you're expecting.\n",
      "This can be anywhere from less than 10 bucks a month to a couple of $100. \n",
      "You should checkout http://www.rackspace.com/ or perhaps Amazon EC2 \n",
      "if youre running something big..\n",
      "\n",
      "To unsubscribe yourself from this mailing list, send an email to:\n",
      "groupname-unsubscribe@egroups.com\n",
      "\n",
      "\n"
     ]
    }
   ],
   "source": [
    "email = open('ex6/emailSample1.txt', 'r').read()\n",
    "print(email)"
   ]
  },
  {
   "cell_type": "code",
   "execution_count": 181,
   "metadata": {},
   "outputs": [
    {
     "name": "stdout",
     "output_type": "stream",
     "text": [
      "> anyone knows how much it costs to host a web portal ?\n",
      ">\n",
      "well, it depends on how many visitors you're expecting.\n",
      "this can be anywhere from less than 10 bucks a month to a couple of $100. \n",
      "you should checkout http://www.rackspace.com/ or perhaps amazon ec2 \n",
      "if youre running something big..\n",
      "\n",
      "to unsubscribe yourself from this mailing list, send an email to:\n",
      "groupname-unsubscribe@egroups.com\n",
      "\n",
      "\n"
     ]
    }
   ],
   "source": [
    "email = email.lower()\n",
    "print(email)"
   ]
  },
  {
   "cell_type": "code",
   "execution_count": 182,
   "metadata": {},
   "outputs": [
    {
     "name": "stdout",
     "output_type": "stream",
     "text": [
      "> anyone knows how much it costs to host a web portal ?\n",
      ">\n",
      "well, it depends on how many visitors you're expecting.\n",
      "this can be anywhere from less than 10 bucks a month to a couple of $100. \n",
      "you should checkout http://www.rackspace.com/ or perhaps amazon ec2 \n",
      "if youre running something big..\n",
      "\n",
      "to unsubscribe yourself from this mailing list, send an email to:\n",
      "groupname-unsubscribe@egroups.com\n",
      "\n",
      "\n"
     ]
    }
   ],
   "source": [
    "email = re.sub(r'<[^<>]+>', ' ', email)\n",
    "print(email)"
   ]
  },
  {
   "cell_type": "code",
   "execution_count": 183,
   "metadata": {},
   "outputs": [
    {
     "name": "stdout",
     "output_type": "stream",
     "text": [
      "> anyone knows how much it costs to host a web portal ?\n",
      ">\n",
      "well, it depends on how many visitors you're expecting.\n",
      "this can be anywhere from less than 10 bucks a month to a couple of $100. \n",
      "you should checkout httpaddr or perhaps amazon ec2 \n",
      "if youre running something big..\n",
      "\n",
      "to unsubscribe yourself from this mailing list, send an email to:\n",
      "groupname-unsubscribe@egroups.com\n",
      "\n",
      "\n"
     ]
    }
   ],
   "source": [
    "email = re.sub(r'(http|https)://\\S*', 'httpaddr', email)\n",
    "print(email)"
   ]
  },
  {
   "cell_type": "code",
   "execution_count": 184,
   "metadata": {},
   "outputs": [
    {
     "name": "stdout",
     "output_type": "stream",
     "text": [
      "> anyone knows how much it costs to host a web portal ?\n",
      ">\n",
      "well, it depends on how many visitors you're expecting.\n",
      "this can be anywhere from less than 10 bucks a month to a couple of $100. \n",
      "you should checkout httpaddr or perhaps amazon ec2 \n",
      "if youre running something big..\n",
      "\n",
      "to unsubscribe yourself from this mailing list, send an email to:\n",
      "emailaddr\n",
      "\n",
      "\n"
     ]
    }
   ],
   "source": [
    "email = re.sub('\\S+@\\S+', 'emailaddr', email)\n",
    "print(email)"
   ]
  },
  {
   "cell_type": "code",
   "execution_count": 185,
   "metadata": {},
   "outputs": [
    {
     "name": "stdout",
     "output_type": "stream",
     "text": [
      "> anyone knows how much it costs to host a web portal ?\n",
      ">\n",
      "well, it depends on how many visitors you're expecting.\n",
      "this can be anywhere from less than 10 bucks a month to a couple of dollar100. \n",
      "you should checkout httpaddr or perhaps amazon ec2 \n",
      "if youre running something big..\n",
      "\n",
      "to unsubscribe yourself from this mailing list, send an email to:\n",
      "emailaddr\n",
      "\n",
      "\n"
     ]
    }
   ],
   "source": [
    "email = re.sub('\\$+', 'dollar', email)\n",
    "print(email)"
   ]
  },
  {
   "cell_type": "code",
   "execution_count": 186,
   "metadata": {},
   "outputs": [
    {
     "name": "stdout",
     "output_type": "stream",
     "text": [
      "> anyone knows how much it costs to host a web portal ?\n",
      ">\n",
      "well, it depends on how many visitors you're expecting.\n",
      "this can be anywhere from less than number bucks a month to a couple of dollarnumber. \n",
      "you should checkout httpaddr or perhaps amazon ecnumber \n",
      "if youre running something big..\n",
      "\n",
      "to unsubscribe yourself from this mailing list, send an email to:\n",
      "emailaddr\n",
      "\n",
      "\n"
     ]
    }
   ],
   "source": [
    "email = re.sub(r'[0-9]+', 'number', email)\n",
    "print(email)"
   ]
  },
  {
   "cell_type": "code",
   "execution_count": 187,
   "metadata": {},
   "outputs": [
    {
     "name": "stdout",
     "output_type": "stream",
     "text": [
      "['', '', 'anyone', 'knows', 'how', 'much', 'it', 'costs', 'to', 'host', 'a', 'web', 'portal', '', '', '', '', 'well', '', 'it', 'depends', 'on', 'how', 'many', 'visitors', 'you', 're', 'expecting', '', 'this', 'can', 'be', 'anywhere', 'from', 'less', 'than', 'number', 'bucks', 'a', 'month', 'to', 'a', 'couple', 'of', 'dollarnumber', '', '', 'you', 'should', 'checkout', 'httpaddr', 'or', 'perhaps', 'amazon', 'ecnumber', '', 'if', 'youre', 'running', 'something', 'big', '', '', '', 'to', 'unsubscribe', 'yourself', 'from', 'this', 'mailing', 'list', '', 'send', 'an', 'email', 'to', '', 'emailaddr', '', '']\n"
     ]
    }
   ],
   "source": [
    "email = re.split(r'\\W', email)\n",
    "print(email)"
   ]
  },
  {
   "cell_type": "code",
   "execution_count": 188,
   "metadata": {},
   "outputs": [
    {
     "name": "stdout",
     "output_type": "stream",
     "text": [
      "['anyon', 'know', 'how', 'much', 'it', 'cost', 'to', 'host', 'a', 'web', 'portal', 'well', 'it', 'depend', 'on', 'how', 'mani', 'visitor', 'you', 're', 'expect', 'thi', 'can', 'be', 'anywher', 'from', 'less', 'than', 'number', 'buck', 'a', 'month', 'to', 'a', 'coupl', 'of', 'dollarnumb', 'you', 'should', 'checkout', 'httpaddr', 'or', 'perhap', 'amazon', 'ecnumb', 'if', 'your', 'run', 'someth', 'big', 'to', 'unsubscrib', 'yourself', 'from', 'thi', 'mail', 'list', 'send', 'an', 'email', 'to', 'emailaddr']\n"
     ]
    }
   ],
   "source": [
    "email = [\n",
    "    PorterStemmer().stem(word)\n",
    "    for word in email\n",
    "    if word\n",
    "]\n",
    "print(email)"
   ]
  },
  {
   "cell_type": "code",
   "execution_count": 189,
   "metadata": {},
   "outputs": [
    {
     "name": "stdout",
     "output_type": "stream",
     "text": [
      "[85, 915, 793, 1076, 882, 369, 1698, 789, 1821, 1830, 882, 430, 1170, 793, 1001, 1892, 1363, 591, 1675, 237, 161, 88, 687, 944, 1662, 1119, 1061, 1698, 374, 1161, 478, 1892, 1509, 798, 1181, 1236, 809, 1894, 1439, 1546, 180, 1698, 1757, 1895, 687, 1675, 991, 960, 1476, 70, 529, 1698, 530]\n"
     ]
    }
   ],
   "source": [
    "vocab_idxs_email = [\n",
    "    vocab.index(word)\n",
    "    for word in email\n",
    "    if (word and word in vocab)\n",
    "]\n",
    "print(vocab_idxs_email)"
   ]
  },
  {
   "cell_type": "markdown",
   "metadata": {},
   "source": [
    "---"
   ]
  },
  {
   "cell_type": "code",
   "execution_count": 191,
   "metadata": {},
   "outputs": [],
   "source": [
    "def get_vocab_idxs_email(email):\n",
    "\n",
    "    email = email.lower()\n",
    "    email = re.sub(r'<[^<>]+>', ' ', email)\n",
    "    email = re.sub(r'(http|https)://\\S*', 'httpaddr', email)\n",
    "    email = re.sub('\\S+@\\S+', 'emailaddr', email)\n",
    "    email = re.sub('\\$+', 'dollar', email)\n",
    "    email = re.sub(r'[0-9]+', 'number', email)\n",
    "    email = re.split(r'\\W', email)\n",
    "    email = [PorterStemmer().stem(word) for word in email if word]\n",
    "\n",
    "    vocab_idxs_email = [vocab.index(word) for word in email if (word in vocab)]\n",
    "\n",
    "    return(vocab_idxs_email)"
   ]
  },
  {
   "cell_type": "code",
   "execution_count": 192,
   "metadata": {},
   "outputs": [],
   "source": [
    "def get_features_email(vocab_idxs_email):\n",
    "\n",
    "    features_email = np.zeros(len(vocab))\n",
    "\n",
    "    for vocab_idx in vocab_idxs_email:\n",
    "        features_email[vocab_idx] = 1\n",
    "\n",
    "    return(features_email)"
   ]
  },
  {
   "cell_type": "markdown",
   "metadata": {},
   "source": [
    "---"
   ]
  },
  {
   "cell_type": "code",
   "execution_count": 195,
   "metadata": {},
   "outputs": [
    {
     "name": "stdout",
     "output_type": "stream",
     "text": [
      "[0. 0. 0. ... 0. 0. 0.]\n",
      "45.0\n"
     ]
    }
   ],
   "source": [
    "email = open('ex6/emailSample1.txt', 'r').read()\n",
    "vocab_idxs_email = get_vocab_idxs_email(email)\n",
    "features_email = get_features_email(vocab_idxs_email)\n",
    "print(features_email)\n",
    "print(np.sum(features_email))"
   ]
  },
  {
   "cell_type": "markdown",
   "metadata": {},
   "source": [
    "---"
   ]
  },
  {
   "cell_type": "markdown",
   "metadata": {},
   "source": [
    "Now load the training data, already processed into binary vectors as per the earlier note, run the SVM, and calculate the accuracy:"
   ]
  },
  {
   "cell_type": "code",
   "execution_count": 196,
   "metadata": {},
   "outputs": [
    {
     "data": {
      "text/plain": [
       "dict_keys(['__header__', '__version__', '__globals__', 'X', 'y'])"
      ]
     },
     "execution_count": 196,
     "metadata": {},
     "output_type": "execute_result"
    }
   ],
   "source": [
    "d4_train = loadmat('ex6/spamTrain.mat')\n",
    "d4_train.keys()"
   ]
  },
  {
   "cell_type": "code",
   "execution_count": 197,
   "metadata": {},
   "outputs": [
    {
     "data": {
      "text/plain": [
       "(4000, 1899)"
      ]
     },
     "execution_count": 197,
     "metadata": {},
     "output_type": "execute_result"
    }
   ],
   "source": [
    "d4_X = d4_train['X']\n",
    "d4_X.shape"
   ]
  },
  {
   "cell_type": "code",
   "execution_count": 199,
   "metadata": {},
   "outputs": [
    {
     "data": {
      "text/plain": [
       "(4000, 1)"
      ]
     },
     "execution_count": 199,
     "metadata": {},
     "output_type": "execute_result"
    }
   ],
   "source": [
    "d4_y = d4_train['y']\n",
    "d4_y.shape"
   ]
  },
  {
   "cell_type": "code",
   "execution_count": 230,
   "metadata": {},
   "outputs": [],
   "source": [
    "del(d4_train)"
   ]
  },
  {
   "cell_type": "code",
   "execution_count": 200,
   "metadata": {},
   "outputs": [],
   "source": [
    "d4_svm = svm(\n",
    "    d4_X,\n",
    "    d4_y,\n",
    "    0.1,\n",
    "    kern_func='kern_lin',\n",
    ")"
   ]
  },
  {
   "cell_type": "code",
   "execution_count": 216,
   "metadata": {},
   "outputs": [
    {
     "data": {
      "text/plain": [
       "0.96275"
      ]
     },
     "execution_count": 216,
     "metadata": {},
     "output_type": "execute_result"
    }
   ],
   "source": [
    "d4_X_predictions = np.dot(add_ones(d4_X), np.transpose(np.append(d4_svm[4], d4_svm[3])))\n",
    "d4_X_predictions = np.transpose([[1 if (p >= 0) else 0 for p in d4_X_predictions]])\n",
    "d4_X_accuracy = np.mean(d4_X_predictions == d4_y)\n",
    "d4_X_accuracy"
   ]
  },
  {
   "cell_type": "markdown",
   "metadata": {},
   "source": [
    "---"
   ]
  },
  {
   "cell_type": "markdown",
   "metadata": {},
   "source": [
    "Use the SVM output from the training data to make predictions for some testing data, and again calculate the accuracy:"
   ]
  },
  {
   "cell_type": "code",
   "execution_count": 211,
   "metadata": {},
   "outputs": [
    {
     "data": {
      "text/plain": [
       "dict_keys(['__header__', '__version__', '__globals__', 'Xtest', 'ytest'])"
      ]
     },
     "execution_count": 211,
     "metadata": {},
     "output_type": "execute_result"
    }
   ],
   "source": [
    "d4_test = loadmat('ex6/spamTest.mat')\n",
    "d4_test.keys()"
   ]
  },
  {
   "cell_type": "code",
   "execution_count": 213,
   "metadata": {},
   "outputs": [
    {
     "data": {
      "text/plain": [
       "(1000, 1899)"
      ]
     },
     "execution_count": 213,
     "metadata": {},
     "output_type": "execute_result"
    }
   ],
   "source": [
    "d4_Xtest = d4_test['Xtest']\n",
    "d4_Xtest.shape"
   ]
  },
  {
   "cell_type": "code",
   "execution_count": 214,
   "metadata": {},
   "outputs": [
    {
     "data": {
      "text/plain": [
       "(1000, 1)"
      ]
     },
     "execution_count": 214,
     "metadata": {},
     "output_type": "execute_result"
    }
   ],
   "source": [
    "d4_ytest = d4_test['ytest']\n",
    "d4_ytest.shape"
   ]
  },
  {
   "cell_type": "code",
   "execution_count": 231,
   "metadata": {},
   "outputs": [],
   "source": [
    "del(d4_test)"
   ]
  },
  {
   "cell_type": "code",
   "execution_count": 218,
   "metadata": {},
   "outputs": [
    {
     "data": {
      "text/plain": [
       "0.944"
      ]
     },
     "execution_count": 218,
     "metadata": {},
     "output_type": "execute_result"
    }
   ],
   "source": [
    "d4_Xtest_predictions = np.dot(add_ones(d4_Xtest), np.transpose(np.append(d4_svm[4], d4_svm[3])))\n",
    "d4_Xtest_predictions = np.transpose([[1 if (p >= 0) else 0 for p in d4_Xtest_predictions]])\n",
    "d4_Xtest_accuracy = np.mean(d4_Xtest_predictions == d4_ytest)\n",
    "d4_Xtest_accuracy"
   ]
  },
  {
   "cell_type": "markdown",
   "metadata": {},
   "source": [
    "---"
   ]
  },
  {
   "cell_type": "markdown",
   "metadata": {},
   "source": [
    "Andrew's PDF notes for this exercise say the training and testing accuracies should be:\n",
    "\n",
    "- Train: ~99.8%\n",
    "- Test: ~98.5%\n",
    "\n",
    "Don't know why I have distinctly lower values, possibly something incorrect in the implementation (i.e. my hacked SVM function ... although it did seem to perform as expected with the earlier 2D data). But the testing accuracy is at least lower than the training accuracy, in line with Andrew's values."
   ]
  },
  {
   "cell_type": "markdown",
   "metadata": {},
   "source": [
    "---"
   ]
  },
  {
   "cell_type": "markdown",
   "metadata": {},
   "source": [
    "The parameters that have been trained by the SVM are one value for each dimension, and as each dimension represents a word in the vocabulary, that's one value for each vocabulary word. The higher a parameter value, the more likely the associated word is to be found in a spam email than in a non-spam email. The higher the fraction of spammy words in an email, as determined by these parameters, the more likely the email is to be actual spam, and on the spam side of the boundary surface. By ordering these SVM parameters in terms of descending value, we can order the vocabulary in terms of how spammy the words are, on the basis of our training, at least:"
   ]
  },
  {
   "cell_type": "code",
   "execution_count": 220,
   "metadata": {},
   "outputs": [
    {
     "data": {
      "text/plain": [
       "[(1397, array([2.84782399])),\n",
       " (1860, array([2.4255961])),\n",
       " (1851, array([2.09689761])),\n",
       " (791, array([2.0457986])),\n",
       " (1894, array([1.99907317])),\n",
       " (1008, array([1.99131733])),\n",
       " (839, array([1.98880246])),\n",
       " (529, array([1.98562743])),\n",
       " (738, array([1.90927865])),\n",
       " (1263, array([1.89571927]))]"
      ]
     },
     "execution_count": 220,
     "metadata": {},
     "output_type": "execute_result"
    }
   ],
   "source": [
    "d4_svm_weights_sorted = sorted(\n",
    "    enumerate(d4_svm[3]),\n",
    "    key=lambda k:k[1],\n",
    "    reverse=True,\n",
    ")\n",
    "d4_svm_weights_sorted[0:10]"
   ]
  },
  {
   "cell_type": "code",
   "execution_count": 225,
   "metadata": {},
   "outputs": [
    {
     "data": {
      "text/plain": [
       "array(['remov', 'within', 'will', 'hour', 'your', 'market', 'inform',\n",
       "       'email', 'guarante', 'pleas'], dtype='<U40')"
      ]
     },
     "execution_count": 225,
     "metadata": {},
     "output_type": "execute_result"
    }
   ],
   "source": [
    "vocab_idxs_sorted = [\n",
    "    weight_sorted[0]\n",
    "    for weight_sorted in d4_svm_weights_sorted\n",
    "]\n",
    "np.array(vocab)[vocab_idxs_sorted[0:10]]"
   ]
  },
  {
   "cell_type": "code",
   "execution_count": null,
   "metadata": {},
   "outputs": [],
   "source": []
  }
 ],
 "metadata": {
  "kernelspec": {
   "display_name": "Python 3",
   "language": "python",
   "name": "python3"
  },
  "language_info": {
   "codemirror_mode": {
    "name": "ipython",
    "version": 3
   },
   "file_extension": ".py",
   "mimetype": "text/x-python",
   "name": "python",
   "nbconvert_exporter": "python",
   "pygments_lexer": "ipython3",
   "version": "3.6.8"
  }
 },
 "nbformat": 4,
 "nbformat_minor": 4
}
