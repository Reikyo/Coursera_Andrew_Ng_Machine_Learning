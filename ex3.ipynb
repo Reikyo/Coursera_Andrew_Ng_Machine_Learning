{
 "cells": [
  {
   "cell_type": "code",
   "execution_count": 1,
   "metadata": {},
   "outputs": [],
   "source": [
    "import matplotlib.pyplot as plt\n",
    "import numpy as np\n",
    "from datetime import datetime\n",
    "from mpl_toolkits.axes_grid1 import ImageGrid\n",
    "from scipy.io import loadmat\n",
    "from scipy.optimize import fmin_cg"
   ]
  },
  {
   "cell_type": "markdown",
   "metadata": {},
   "source": [
    "# Exercise 3.1: Logistic Regression (dimension-400, power-1, category-10, regularised)\n",
    "---"
   ]
  },
  {
   "cell_type": "markdown",
   "metadata": {},
   "source": [
    "In exercise-2 we look at logistic regression to categorise 2D data with binary labels. In one example the two categories are separable by a flat boundary surface, so being a power-1 problem, and in another example the two categories require a curved boundary surface, which we solve by using up to and including power-6 features. All categorisation problems can, in fact, actually be cast as binary problems, as we can always take one specific category of interest and have all other categories that may be present grouped together as \"other\". We can therefore determine as many boundary surfaces as there are categories of data, each separating one specific category from all others, and then, for some new and unlabelled data points, select their label by whatever boundary surface provides the highest raw sigmoid score (i.e. not the score rounded to a pure 0 or 1, as this would not be distinct enough from one category to the next). That's exactly what we do in this exercise.\n",
    "\n",
    "The data set used herein is a set of handwritten digit images from an MNIST challenge. At first glance this may seem to be a 3D problem, as we have 2D images with a variable greyscale value in a third dimension, and with each example having a label 1 to 10 (where label 10 is for digit 0, which was beneficial for Andrew to do for Octave indexing reasons). However, a full single image is a single data point, and a single data point must have only one value for each dimension that will be used to cast the problem, in order to establish its unique location in data-space. As there are as many 3D image-position-plus-greyscale coordinates as there are pixels for any given image, these coordinates are hence not suitable as a data-space. Instead, we must consider each pixel as a distinct dimension, with the pixel's greyscale value being the position along that dimension, so to speak, and we therefore have the required one-value-per-dimension description for an image as a whole. The given images are 20 $\\times$ 20 pixels in size, which gives a 400D data-space. We won't take any higher powers of these values in making further features, so this is a power-1 problem, meaning that a \"flat\" boundary surface is sought for each logistic regression classifier that will be trained.\n",
    "\n",
    "The basic method and cost function are exactly the same as in exercise-2. And again, instead of manual gradient descent, we use an automated optimiser function. But whereas in exercise-2 we used ``fmin_bfgs``, here we use ``fmin_cg``, although I'm not sure what the differences are, they both seem to do the same job as far as this work is concerned. Just following Andrew's lead. Let's begin by having a look at the data, first just a single image (a single data point, remember), and then a group of images selected at random. Note that the two sets of four images shown below are just included to illustrate the use of ``ImageGrid``, and the benefits that has over simply using ``subplot``:"
   ]
  },
  {
   "cell_type": "code",
   "execution_count": 2,
   "metadata": {},
   "outputs": [
    {
     "data": {
      "text/plain": [
       "dict_keys(['__header__', '__version__', '__globals__', 'X', 'y'])"
      ]
     },
     "execution_count": 2,
     "metadata": {},
     "output_type": "execute_result"
    }
   ],
   "source": [
    "d1 = loadmat('ex3/ex3data1.mat')\n",
    "d1.keys()"
   ]
  },
  {
   "cell_type": "code",
   "execution_count": 43,
   "metadata": {},
   "outputs": [
    {
     "data": {
      "text/plain": [
       "(5000, 400)"
      ]
     },
     "execution_count": 43,
     "metadata": {},
     "output_type": "execute_result"
    }
   ],
   "source": [
    "d1_X = d1['X']\n",
    "d1_X.shape"
   ]
  },
  {
   "cell_type": "code",
   "execution_count": 44,
   "metadata": {},
   "outputs": [
    {
     "data": {
      "text/plain": [
       "(5000, 1)"
      ]
     },
     "execution_count": 44,
     "metadata": {},
     "output_type": "execute_result"
    }
   ],
   "source": [
    "d1_y = d1['y']\n",
    "d1_y.shape"
   ]
  },
  {
   "cell_type": "code",
   "execution_count": 30,
   "metadata": {},
   "outputs": [
    {
     "data": {
      "text/plain": [
       "<Figure size 432x288 with 0 Axes>"
      ]
     },
     "metadata": {},
     "output_type": "display_data"
    }
   ],
   "source": [
    "plt.gray() # I think this sets output to greyscale for all plots from now on"
   ]
  },
  {
   "cell_type": "code",
   "execution_count": 6,
   "metadata": {},
   "outputs": [
    {
     "data": {
      "image/png": "[encoded data removed]",
      "text/plain": [
       "<Figure size 720x720 with 1 Axes>"
      ]
     },
     "metadata": {
      "needs_background": "light"
     },
     "output_type": "display_data"
    }
   ],
   "source": [
    "fig = plt.figure(figsize=(10,10))\n",
    "ax = fig.gca()\n",
    "im = np.transpose(np.reshape(d1_X[3000], [20,20]))\n",
    "ax.imshow(im)\n",
    "plt.show()"
   ]
  },
  {
   "cell_type": "code",
   "execution_count": 7,
   "metadata": {},
   "outputs": [
    {
     "data": {
      "image/png": "[encoded data removed]",
      "text/plain": [
       "<Figure size 720x720 with 4 Axes>"
      ]
     },
     "metadata": {
      "needs_background": "light"
     },
     "output_type": "display_data"
    }
   ],
   "source": [
    "fig, [[ax1,ax2],[ax3,ax4]] = plt.subplots(2,2,figsize=(10,10))\n",
    "\n",
    "im1 = np.transpose(np.reshape(d1_X[3000], [20,20]))\n",
    "im2 = np.transpose(np.reshape(d1_X[3500], [20,20]))\n",
    "im3 = np.transpose(np.reshape(d1_X[4000], [20,20]))\n",
    "im4 = np.transpose(np.reshape(d1_X[4500], [20,20]))\n",
    "\n",
    "for ax,im in zip([ax1,ax2,ax3,ax4], [im1,im2,im3,im4]):\n",
    "    ax.get_xaxis().set_visible(False)\n",
    "    ax.get_yaxis().set_visible(False)\n",
    "    ax.imshow(im)\n",
    "\n",
    "plt.show()"
   ]
  },
  {
   "cell_type": "code",
   "execution_count": 8,
   "metadata": {},
   "outputs": [
    {
     "data": {
      "image/png": "[encoded data removed]",
      "text/plain": [
       "<Figure size 720x720 with 8 Axes>"
      ]
     },
     "metadata": {
      "needs_background": "light"
     },
     "output_type": "display_data"
    }
   ],
   "source": [
    "fig = plt.figure(figsize=(10,10))\n",
    "\n",
    "axs = ImageGrid(\n",
    "    fig,\n",
    "    111, # Similar to subplot(111)\n",
    "    nrows_ncols = (2,2),\n",
    "    axes_pad = 0.1, # Pad between axes in inches\n",
    ")\n",
    "\n",
    "ims = [\n",
    "    np.transpose(np.reshape(d1_X[3000], [20,20])),\n",
    "    np.transpose(np.reshape(d1_X[3500], [20,20])),\n",
    "    np.transpose(np.reshape(d1_X[4000], [20,20])),\n",
    "    np.transpose(np.reshape(d1_X[4500], [20,20])),\n",
    "]\n",
    "\n",
    "for ax,im in zip(axs, ims):\n",
    "    ax.get_xaxis().set_visible(False)\n",
    "    ax.get_yaxis().set_visible(False)\n",
    "    ax.imshow(im)\n",
    "\n",
    "plt.show()"
   ]
  },
  {
   "cell_type": "code",
   "execution_count": 37,
   "metadata": {},
   "outputs": [
    {
     "data": {
      "image/png": "[encoded data removed]",
      "text/plain": [
       "<Figure size 720x720 with 200 Axes>"
      ]
     },
     "metadata": {
      "needs_background": "light"
     },
     "output_type": "display_data"
    }
   ],
   "source": [
    "fig = plt.figure(figsize=(10,10))\n",
    "\n",
    "axs = ImageGrid(\n",
    "    fig,\n",
    "    111,\n",
    "    nrows_ncols = (10,10),\n",
    "    axes_pad = 0.1,\n",
    ")\n",
    "\n",
    "ims = [\n",
    "    np.transpose(np.reshape(d1_X[exs_idx], [20,20]))\n",
    "    for exs_idx in np.random.choice(d1_X.shape[0], 100, replace=False)\n",
    "]\n",
    "\n",
    "for ax,im in zip(axs, ims):\n",
    "    ax.get_xaxis().set_visible(False)\n",
    "    ax.get_yaxis().set_visible(False)\n",
    "    ax.imshow(im)\n",
    "\n",
    "plt.show()"
   ]
  },
  {
   "cell_type": "markdown",
   "metadata": {},
   "source": [
    "---"
   ]
  },
  {
   "cell_type": "markdown",
   "metadata": {},
   "source": [
    "Let's make a function to include an offset term via the dummy feature $x_0 = 1$:"
   ]
  },
  {
   "cell_type": "code",
   "execution_count": 10,
   "metadata": {},
   "outputs": [],
   "source": [
    "def add_ones(X):\n",
    "    return(np.append(np.ones([X.shape[0],1]), X, axis=1))"
   ]
  },
  {
   "cell_type": "code",
   "execution_count": 11,
   "metadata": {},
   "outputs": [
    {
     "data": {
      "text/plain": [
       "(5000, 401)"
      ]
     },
     "execution_count": 11,
     "metadata": {},
     "output_type": "execute_result"
    }
   ],
   "source": [
    "d1_X_ones = add_ones(d1_X)\n",
    "d1_X_ones.shape"
   ]
  },
  {
   "cell_type": "markdown",
   "metadata": {},
   "source": [
    "---"
   ]
  },
  {
   "cell_type": "markdown",
   "metadata": {},
   "source": [
    "Now define the sigmoid function and the cost function and test:"
   ]
  },
  {
   "cell_type": "code",
   "execution_count": 12,
   "metadata": {},
   "outputs": [],
   "source": [
    "def sigmoid(g):\n",
    "    return(1 / (1 + np.exp(-g)))"
   ]
  },
  {
   "cell_type": "code",
   "execution_count": 13,
   "metadata": {},
   "outputs": [],
   "source": [
    "def get_cost(\n",
    "    theta,\n",
    "    lamb,\n",
    "    X,\n",
    "    y,\n",
    "    get_derivative=True,\n",
    "):\n",
    "\n",
    "    if (theta.ndim == 1):\n",
    "        theta = np.transpose([theta])\n",
    "\n",
    "    m = X.shape[0]\n",
    "    g = np.dot(X, theta)\n",
    "    h = sigmoid(g) # These are the predictions for the y values we're trying to match i.e. h is an array of the same size as y\n",
    "    h_minus_y = h - y\n",
    "\n",
    "    cost = \\\n",
    "          (-1 / m) \\\n",
    "        * np.sum((y * np.log(h)) + ((1-y) * np.log(1-h))) \\\n",
    "        + (lamb / (2 * m)) * np.sum(np.power(theta[1:], 2))\n",
    "\n",
    "    if (not get_derivative):\n",
    "        return(cost)\n",
    "    else:\n",
    "        dcost_by_dtheta = (1 / m) * np.dot(np.transpose(X), h_minus_y)\n",
    "        dcost_by_dtheta[1:] += (lamb / m) * theta[1:]\n",
    "        return(cost, dcost_by_dtheta)"
   ]
  },
  {
   "cell_type": "code",
   "execution_count": 14,
   "metadata": {},
   "outputs": [],
   "source": [
    "def get_theta(\n",
    "    theta_init,\n",
    "    lamb,\n",
    "    iters_num,\n",
    "    X,\n",
    "    y,\n",
    "    disp=True,\n",
    "):\n",
    "\n",
    "    theta = fmin_cg(\n",
    "        get_cost,\n",
    "        theta_init,\n",
    "        args=(\n",
    "            lamb,\n",
    "            X,\n",
    "            y,\n",
    "            False,\n",
    "        ),\n",
    "        maxiter=iters_num,\n",
    "        disp=disp,\n",
    "    )\n",
    "\n",
    "    theta = np.transpose([theta])\n",
    "\n",
    "    return(theta)"
   ]
  },
  {
   "cell_type": "code",
   "execution_count": 15,
   "metadata": {},
   "outputs": [
    {
     "name": "stdout",
     "output_type": "stream",
     "text": [
      "2.534819396109744\n",
      "[[ 0.14656137]\n",
      " [-0.54855841]\n",
      " [ 0.72472227]\n",
      " [ 1.39800296]]\n"
     ]
    }
   ],
   "source": [
    "test_X = np.transpose(np.reshape(np.arange(1,16)/10, [3,5]))\n",
    "test_X_ones = add_ones(test_X)\n",
    "test_y = np.transpose([[1,0,1,0,1]])\n",
    "\n",
    "test_cost, test_dcost_by_dtheta = get_cost(\n",
    "    np.transpose([[-2.0,-1.0,1.0,2.0]]),\n",
    "    3,\n",
    "    test_X_ones,\n",
    "    test_y,\n",
    ")\n",
    "print(test_cost)\n",
    "print(test_dcost_by_dtheta)\n",
    "# 2.534819396109744\n",
    "# [[ 0.14656137]\n",
    "#  [-0.54855841]\n",
    "#  [ 0.72472227]\n",
    "#  [ 1.39800296]]"
   ]
  },
  {
   "cell_type": "markdown",
   "metadata": {},
   "source": [
    "---"
   ]
  },
  {
   "cell_type": "markdown",
   "metadata": {},
   "source": [
    "Run the optimisation function to find the optimum $\\overrightarrow{\\theta}$ for a regularised sigmoid fit, one for each category. Note that digit label 1 is in the Python index 0 position, on up to digit label 10 which is in the Python index 9 position, with digit label 10 corresponding to actual digit 0, remember. When calculating predicted labels, we then take the Python index of the highest sigmoid-scoring set of parameters and add 1. This is done for consistency with the following section on neural networks. Also note that this took about 5-6 mins per digit, so about 50 mins total, when I used a Pandas-Numpy combination, but takes only 30-40 secs per digit, so about 4 mins total, with just a pure Numpy implementation:"
   ]
  },
  {
   "cell_type": "code",
   "execution_count": 21,
   "metadata": {},
   "outputs": [
    {
     "name": "stdout",
     "output_type": "stream",
     "text": [
      "Cat: 1\n",
      "Warning: Maximum number of iterations has been exceeded.\n",
      "         Current function value: 0.029300\n",
      "         Iterations: 10\n",
      "         Function evaluations: 11687\n",
      "         Gradient evaluations: 29\n",
      "Time taken: 24.215226 secs\n",
      "Time taken: 0.403587 mins\n",
      "\n",
      "Cat: 2\n",
      "Warning: Maximum number of iterations has been exceeded.\n",
      "         Current function value: 0.084478\n",
      "         Iterations: 10\n",
      "         Function evaluations: 10478\n",
      "         Gradient evaluations: 26\n",
      "Time taken: 20.232253 secs\n",
      "Time taken: 0.337204 mins\n",
      "\n",
      "Cat: 3\n",
      "Warning: Maximum number of iterations has been exceeded.\n",
      "         Current function value: 0.083454\n",
      "         Iterations: 10\n",
      "         Function evaluations: 11284\n",
      "         Gradient evaluations: 28\n",
      "Time taken: 21.746541 secs\n",
      "Time taken: 0.362442 mins\n",
      "\n",
      "Cat: 4\n",
      "Warning: Maximum number of iterations has been exceeded.\n",
      "         Current function value: 0.060838\n",
      "         Iterations: 10\n",
      "         Function evaluations: 10881\n",
      "         Gradient evaluations: 27\n",
      "Time taken: 19.79431 secs\n",
      "Time taken: 0.329905 mins\n",
      "\n",
      "Cat: 5\n",
      "Warning: Maximum number of iterations has been exceeded.\n",
      "         Current function value: 0.114597\n",
      "         Iterations: 10\n",
      "         Function evaluations: 8463\n",
      "         Gradient evaluations: 21\n",
      "Time taken: 20.685948 secs\n",
      "Time taken: 0.344766 mins\n",
      "\n",
      "Cat: 6\n",
      "Warning: Maximum number of iterations has been exceeded.\n",
      "         Current function value: 0.036485\n",
      "         Iterations: 10\n",
      "         Function evaluations: 12090\n",
      "         Gradient evaluations: 30\n",
      "Time taken: 25.89842 secs\n",
      "Time taken: 0.43164 mins\n",
      "\n",
      "Cat: 7\n",
      "Warning: Maximum number of iterations has been exceeded.\n",
      "         Current function value: 0.050253\n",
      "         Iterations: 10\n",
      "         Function evaluations: 11687\n",
      "         Gradient evaluations: 29\n",
      "Time taken: 23.842435 secs\n",
      "Time taken: 0.397374 mins\n",
      "\n",
      "Cat: 8\n",
      "Warning: Maximum number of iterations has been exceeded.\n",
      "         Current function value: 0.139857\n",
      "         Iterations: 10\n",
      "         Function evaluations: 10478\n",
      "         Gradient evaluations: 26\n",
      "Time taken: 27.159791 secs\n",
      "Time taken: 0.452663 mins\n",
      "\n",
      "Cat: 9\n",
      "Warning: Maximum number of iterations has been exceeded.\n",
      "         Current function value: 0.117549\n",
      "         Iterations: 10\n",
      "         Function evaluations: 9269\n",
      "         Gradient evaluations: 23\n",
      "Time taken: 16.986323 secs\n",
      "Time taken: 0.283105 mins\n",
      "\n",
      "Cat: 0\n",
      "Warning: Maximum number of iterations has been exceeded.\n",
      "         Current function value: 0.027527\n",
      "         Iterations: 10\n",
      "         Function evaluations: 10478\n",
      "         Gradient evaluations: 26\n",
      "Time taken: 29.844772 secs\n",
      "Time taken: 0.497413 mins\n",
      "\n",
      "All cats:\n",
      "Time taken: 230.438777 secs\n",
      "Time taken: 3.840646 mins\n",
      "(401, 10)\n"
     ]
    }
   ],
   "source": [
    "cats = range(1,11)\n",
    "d1_theta = np.zeros([d1_X_ones.shape[1], len(cats)])\n",
    "\n",
    "time_start_all = datetime.now()\n",
    "\n",
    "for cats_idx,cat in enumerate(cats):\n",
    "\n",
    "    print(f'Cat: {0 if (cat==10) else cat}')\n",
    "\n",
    "    d1_y_cat = np.array([[0]] * d1_X_ones.shape[0])\n",
    "    d1_y_cat[np.where(d1_y == cat)] = 1\n",
    "\n",
    "    time_start = datetime.now()\n",
    "    d1_theta[:,cats_idx] = get_theta(\n",
    "        np.array([[0.0]] * d1_X_ones.shape[1]),\n",
    "        0.1,\n",
    "        10,\n",
    "        d1_X_ones,\n",
    "        d1_y_cat,\n",
    "    ).transpose()\n",
    "    time_end = datetime.now()\n",
    "\n",
    "    deltat = time_end - time_start\n",
    "    deltat_secs = round(deltat.seconds + (deltat.microseconds / 1e6), 6)\n",
    "    deltat_mins = round(deltat_secs / 60, 6)\n",
    "\n",
    "    print(f'Time taken: {deltat_secs} secs')\n",
    "    print(f'Time taken: {deltat_mins} mins')\n",
    "    print()\n",
    "\n",
    "time_end_all = datetime.now()\n",
    "\n",
    "deltat = time_end_all - time_start_all\n",
    "deltat_secs = round(deltat.seconds + (deltat.microseconds / 1e6), 6)\n",
    "deltat_mins = round(deltat_secs / 60, 6)\n",
    "\n",
    "print('All cats:')\n",
    "print(f'Time taken: {deltat_secs} secs')\n",
    "print(f'Time taken: {deltat_mins} mins')\n",
    "\n",
    "print(d1_theta.shape)"
   ]
  },
  {
   "cell_type": "markdown",
   "metadata": {},
   "source": [
    "---"
   ]
  },
  {
   "cell_type": "markdown",
   "metadata": {},
   "source": [
    "Let's compare all predictions for the given data set itself, and compare with the known labels to get an overall accuracy score:"
   ]
  },
  {
   "cell_type": "code",
   "execution_count": 22,
   "metadata": {},
   "outputs": [
    {
     "data": {
      "text/plain": [
       "0.9072"
      ]
     },
     "execution_count": 22,
     "metadata": {},
     "output_type": "execute_result"
    }
   ],
   "source": [
    "d1_predictions = np.transpose([np.argmax(sigmoid(np.dot(d1_X_ones, d1_theta)), axis=1)])\n",
    "d1_predictions += 1\n",
    "d1_accuracy = np.mean(d1_y == d1_predictions)\n",
    "d1_accuracy\n",
    "# 0.9072"
   ]
  },
  {
   "cell_type": "markdown",
   "metadata": {},
   "source": [
    "# Exercise 3.2: Neural Network (dimension-400, power-1, category-10, (un)regularised???)\n",
    "---"
   ]
  },
  {
   "cell_type": "markdown",
   "metadata": {},
   "source": [
    "Now for something completely different. Until now we have sought a single set of parameters to map some input vector to some output value, both in linear regression and logistic regression problems. The parameters have described how the change in position in any one dimension correlates with a change in the output value, such as given by the gradient of a straight line in the simplest case. The next step of complexity, and also of capability, comes by producing multiple intermediate output values for a given input vector, thereby forming a vector in and of themselves, and using that as the input to a subsequent layer to calculate further parameters. In effect, this gives us various mixtures of various starting features, and in principle there's no limit to the number of intermediate layers, or the number of final output values, that we have. Typically, though, the final layer of processing ends with a number of discreet output category options, and is just the same as the one-versus-all logistic regression classifier seen above. In essence, the features that make up the input to the final layer are themselves learnt in the preceding layers, as opposed to what we have done previously, which has been to manually specify the features ahead of time. This multi-layer approach is referred to as a \"_neural network_\".\n",
    "\n",
    "Here we observe some parameters for a 2-layer network, so having a single intermediate stage between initial input and final output. These parameters were given by training on the same MNIST digit data as used above. By multiplying through the already prepared input data and applying the sigmoid function at each layer stage, we again come to a set of sigmoid scores for each data example and each category, and can take the highest sigmoid-scoring category for each example as its predicted label. Again, as in exercise-3.1, note that digit label 1 is in the Python index 0 position, on up to digit label 10 which is in the Python index 9 position, with digit label 10 corresponding to actual digit 0, remember. When calculating predicted labels, we then take the Python index of the highest sigmoid-scoring set of parameters and add 1:"
   ]
  },
  {
   "cell_type": "code",
   "execution_count": 23,
   "metadata": {},
   "outputs": [
    {
     "data": {
      "text/plain": [
       "dict_keys(['__header__', '__version__', '__globals__', 'Theta1', 'Theta2'])"
      ]
     },
     "execution_count": 23,
     "metadata": {},
     "output_type": "execute_result"
    }
   ],
   "source": [
    "d1_thetas_nn = loadmat('ex3/ex3weights.mat')\n",
    "d1_thetas_nn.keys()"
   ]
  },
  {
   "cell_type": "code",
   "execution_count": 24,
   "metadata": {},
   "outputs": [
    {
     "data": {
      "text/plain": [
       "(25, 401)"
      ]
     },
     "execution_count": 24,
     "metadata": {},
     "output_type": "execute_result"
    }
   ],
   "source": [
    "d1_thetas_nn['Theta1'].shape"
   ]
  },
  {
   "cell_type": "code",
   "execution_count": 31,
   "metadata": {},
   "outputs": [
    {
     "data": {
      "text/plain": [
       "(401, 25)"
      ]
     },
     "execution_count": 31,
     "metadata": {},
     "output_type": "execute_result"
    }
   ],
   "source": [
    "d1_thetas_nn['Theta1'] = np.transpose(d1_thetas_nn['Theta1'])\n",
    "d1_thetas_nn['Theta1'].shape"
   ]
  },
  {
   "cell_type": "code",
   "execution_count": 25,
   "metadata": {},
   "outputs": [
    {
     "data": {
      "text/plain": [
       "(10, 26)"
      ]
     },
     "execution_count": 25,
     "metadata": {},
     "output_type": "execute_result"
    }
   ],
   "source": [
    "d1_thetas_nn['Theta2'].shape"
   ]
  },
  {
   "cell_type": "code",
   "execution_count": 32,
   "metadata": {},
   "outputs": [
    {
     "data": {
      "text/plain": [
       "(26, 10)"
      ]
     },
     "execution_count": 32,
     "metadata": {},
     "output_type": "execute_result"
    }
   ],
   "source": [
    "d1_thetas_nn['Theta2'] = np.transpose(d1_thetas_nn['Theta2'])\n",
    "d1_thetas_nn['Theta2'].shape"
   ]
  },
  {
   "cell_type": "code",
   "execution_count": 38,
   "metadata": {},
   "outputs": [
    {
     "data": {
      "text/plain": [
       "(5000, 25)"
      ]
     },
     "execution_count": 38,
     "metadata": {},
     "output_type": "execute_result"
    }
   ],
   "source": [
    "d1_g1 = np.dot(d1_X_ones, d1_thetas_nn['Theta1'])\n",
    "d1_g1.shape"
   ]
  },
  {
   "cell_type": "code",
   "execution_count": 39,
   "metadata": {},
   "outputs": [
    {
     "data": {
      "text/plain": [
       "(5000, 25)"
      ]
     },
     "execution_count": 39,
     "metadata": {},
     "output_type": "execute_result"
    }
   ],
   "source": [
    "d1_h1 = sigmoid(d1_g1)\n",
    "d1_h1.shape"
   ]
  },
  {
   "cell_type": "code",
   "execution_count": 34,
   "metadata": {},
   "outputs": [
    {
     "data": {
      "text/plain": [
       "(5000, 26)"
      ]
     },
     "execution_count": 34,
     "metadata": {},
     "output_type": "execute_result"
    }
   ],
   "source": [
    "d1_h1_ones = add_ones(d1_h1)\n",
    "d1_h1_ones.shape"
   ]
  },
  {
   "cell_type": "code",
   "execution_count": 40,
   "metadata": {},
   "outputs": [
    {
     "data": {
      "text/plain": [
       "(5000, 10)"
      ]
     },
     "execution_count": 40,
     "metadata": {},
     "output_type": "execute_result"
    }
   ],
   "source": [
    "d1_g2 = np.dot(d1_h1_ones, d1_thetas_nn['Theta2'])\n",
    "d1_g2.shape"
   ]
  },
  {
   "cell_type": "code",
   "execution_count": 41,
   "metadata": {},
   "outputs": [
    {
     "data": {
      "text/plain": [
       "(5000, 10)"
      ]
     },
     "execution_count": 41,
     "metadata": {},
     "output_type": "execute_result"
    }
   ],
   "source": [
    "d1_h2 = sigmoid(d1_g2)\n",
    "d1_h2.shape"
   ]
  },
  {
   "cell_type": "code",
   "execution_count": 42,
   "metadata": {},
   "outputs": [
    {
     "data": {
      "text/plain": [
       "0.9752"
      ]
     },
     "execution_count": 42,
     "metadata": {},
     "output_type": "execute_result"
    }
   ],
   "source": [
    "d1_predictions = np.transpose([np.argmax(d1_h2, axis=1)])\n",
    "d1_predictions += 1\n",
    "d1_accuracy = np.mean(d1_y == d1_predictions)\n",
    "d1_accuracy\n",
    "# 0.9752"
   ]
  },
  {
   "cell_type": "markdown",
   "metadata": {},
   "source": [
    "Even though the one-vs-all logisitic regression classifier did a pretty good job in terms of accuracy, we see a clear improvement here with the neural network approach. In exercise-4 we actually train these neural network parameters ourselves."
   ]
  },
  {
   "cell_type": "code",
   "execution_count": null,
   "metadata": {},
   "outputs": [],
   "source": []
  }
 ],
 "metadata": {
  "kernelspec": {
   "display_name": "Python 3",
   "language": "python",
   "name": "python3"
  },
  "language_info": {
   "codemirror_mode": {
    "name": "ipython",
    "version": 3
   },
   "file_extension": ".py",
   "mimetype": "text/x-python",
   "name": "python",
   "nbconvert_exporter": "python",
   "pygments_lexer": "ipython3",
   "version": "3.6.8"
  }
 },
 "nbformat": 4,
 "nbformat_minor": 4
}
